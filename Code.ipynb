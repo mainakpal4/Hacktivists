{
 "cells": [
  {
   "cell_type": "code",
   "execution_count": 11,
   "id": "d742cfdd-40ed-44a8-8f27-85fde10bd150",
   "metadata": {},
   "outputs": [
    {
     "name": "stdout",
     "output_type": "stream",
     "text": [
      "Requirement already satisfied: opencv-python in c:\\users\\gautam\\anaconda3\\lib\\site-packages (4.10.0.84)\n",
      "Requirement already satisfied: numpy>=1.21.2 in c:\\users\\gautam\\anaconda3\\lib\\site-packages (from opencv-python) (1.26.4)\n"
     ]
    }
   ],
   "source": [
    "!pip install opencv-python"
   ]
  },
  {
   "cell_type": "code",
   "execution_count": 2,
   "id": "68c206d7-3db6-4eb5-9b78-506df3c904b7",
   "metadata": {},
   "outputs": [],
   "source": [
    "import cv2\n",
    "# Load and resize the image\n",
    "image = cv2.imread('WhatsApp Image 2024-09-21 at 10.24.14 PM.jpeg')\n",
    "resized_image = cv2.resize(image, (600, 400))\n",
    "\n",
    "# Convert to grayscale\n",
    "gray = cv2.cvtColor(resized_image, cv2.COLOR_BGR2GRAY)\n",
    "\n",
    "cv2.imshow('Gray Image',gray)\n",
    "edges = cv2.Canny(gray, 100, 200)\n",
    "\n",
    "cv2.imshow('Edges', edges)\n",
    "hsv = cv2.cvtColor(resized_image, cv2.COLOR_BGR2HSV)\n",
    "\n",
    "# Define color range for plastic detection (e.g., blue plastics)\n",
    "lower_blue = (100, 150, 0)\n",
    "upper_blue = (140, 255, 255)\n",
    "\n",
    "# Threshold the image to get only blue colors\n",
    "mask = cv2.inRange(hsv, lower_blue, upper_blue)\n",
    "\n",
    "cv2.imshow('Plastic Detection Mask', mask)\n",
    "contours, _ = cv2.findContours(mask, cv2.RETR_TREE, cv2.CHAIN_APPROX_SIMPLE)\n",
    "\n",
    "# Draw contours on the original image\n",
    "output = cv2.drawContours(resized_image.copy(), contours, -1, (0, 255, 0), 2)\n",
    "\n",
    "cv2.imshow('Plastic Contours', output)\n",
    "\n",
    "cv2.waitKey(0)\n",
    "cv2.destroyAllWindows()"
   ]
  },
  {
   "cell_type": "code",
   "execution_count": null,
   "id": "ce56076d-3ffb-49f5-be2a-146f56402664",
   "metadata": {},
   "outputs": [],
   "source": []
  }
 ],
 "metadata": {
  "kernelspec": {
   "display_name": "Python 3 (ipykernel)",
   "language": "python",
   "name": "python3"
  },
  "language_info": {
   "codemirror_mode": {
    "name": "ipython",
    "version": 3
   },
   "file_extension": ".py",
   "mimetype": "text/x-python",
   "name": "python",
   "nbconvert_exporter": "python",
   "pygments_lexer": "ipython3",
   "version": "3.12.4"
  }
 },
 "nbformat": 4,
 "nbformat_minor": 5
}
